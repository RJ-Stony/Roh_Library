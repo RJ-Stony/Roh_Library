{
  "nbformat": 4,
  "nbformat_minor": 0,
  "metadata": {
    "colab": {
      "name": "CCM 추천 프로그램.ipynb",
      "provenance": [],
      "collapsed_sections": [],
      "authorship_tag": "ABX9TyOg9gGlS4TSmmJ+2ovhWWp2",
      "include_colab_link": true
    },
    "kernelspec": {
      "name": "python3",
      "display_name": "Python 3"
    },
    "language_info": {
      "name": "python"
    }
  },
  "cells": [
    {
      "cell_type": "markdown",
      "metadata": {
        "id": "view-in-github",
        "colab_type": "text"
      },
      "source": [
        "<a href=\"https://colab.research.google.com/github/RJ-Stony/Roh_Library/blob/main/CCM_%EC%B6%94%EC%B2%9C_%ED%94%84%EB%A1%9C%EA%B7%B8%EB%9E%A8.ipynb\" target=\"_parent\"><img src=\"https://colab.research.google.com/assets/colab-badge.svg\" alt=\"Open In Colab\"/></a>"
      ]
    },
    {
      "cell_type": "code",
      "metadata": {
        "id": "Xa4IWInB6sNV",
        "colab": {
          "base_uri": "https://localhost:8080/"
        },
        "outputId": "16e44f82-91a0-4a69-e4a9-33357ab305e0"
      },
      "source": [
        "!pip install konlpy"
      ],
      "execution_count": null,
      "outputs": [
        {
          "output_type": "stream",
          "name": "stdout",
          "text": [
            "Collecting konlpy\n",
            "  Downloading konlpy-0.6.0-py2.py3-none-any.whl (19.4 MB)\n",
            "\u001b[K     |████████████████████████████████| 19.4 MB 6.1 MB/s \n",
            "\u001b[?25hRequirement already satisfied: lxml>=4.1.0 in /usr/local/lib/python3.7/dist-packages (from konlpy) (4.2.6)\n",
            "Requirement already satisfied: numpy>=1.6 in /usr/local/lib/python3.7/dist-packages (from konlpy) (1.21.6)\n",
            "Collecting JPype1>=0.7.0\n",
            "  Downloading JPype1-1.4.0-cp37-cp37m-manylinux_2_5_x86_64.manylinux1_x86_64.whl (453 kB)\n",
            "\u001b[K     |████████████████████████████████| 453 kB 42.7 MB/s \n",
            "\u001b[?25hRequirement already satisfied: typing-extensions in /usr/local/lib/python3.7/dist-packages (from JPype1>=0.7.0->konlpy) (4.2.0)\n",
            "Installing collected packages: JPype1, konlpy\n",
            "Successfully installed JPype1-1.4.0 konlpy-0.6.0\n"
          ]
        }
      ]
    },
    {
      "cell_type": "code",
      "metadata": {
        "id": "6fvqKBXB6vzl",
        "colab": {
          "base_uri": "https://localhost:8080/",
          "height": 1000
        },
        "outputId": "4a05428c-aa5b-495e-d28a-20509334c40c"
      },
      "source": [
        "import pandas as pd\n",
        "from konlpy.tag import Okt\n",
        "\n",
        "filename = 'https://raw.githubusercontent.com/RJ-Stony/Roh_Library/main/CCM_Info.csv'\n",
        "df = pd.read_csv(filename)\n",
        "\n",
        "def keyword_extractor(tagger, lyrics, word):\n",
        "  tokens = tagger.nouns(lyrics)\n",
        "  tokens = [token for token in tokens if len(token) > 1] # 한 글자인 단어는 제외\n",
        "  count_dict = [(token, lyrics.count(token)) for token in tokens]\n",
        "  if word == '사랑' or '우리':\n",
        "    ranked_words = sorted(count_dict, key=lambda x:x[1], reverse=True)[:1]\n",
        "  elif word == '은혜':\n",
        "    ranked_words = sorted(count_dict, key=lambda x:x[1], reverse=True)[:5]\n",
        "  else:\n",
        "    ranked_words = sorted(count_dict, key=lambda x:x[1], reverse=True)[:30]\n",
        "  return [keyword for keyword, freq in ranked_words]\n",
        "\n",
        "keyword = input(\"키워드를 입력해주세요(한 글자 이상) : \")\n",
        "sum = 0\n",
        "\n",
        "print(\"찬양을 검색중입니다...\")\n",
        "print(\"\")\n",
        "\n",
        "try:\n",
        "  for i in range(len(df)):\n",
        "    okt = Okt()\n",
        "    lyrics = df['가사'].loc[i]\n",
        "    lyrics = keyword_extractor(okt, lyrics, keyword)\n",
        "    if keyword in lyrics:\n",
        "      sum += 1\n",
        "      if df['아티스트'].loc[i] == 'Disciples':\n",
        "        df['아티스트'].loc[i] = '디사이플스'\n",
        "      elif df['아티스트'].loc[i] == '아이자야씩스티원(Isaiah6tyOne)':\n",
        "        df['아티스트'].loc[i] = '아이자야씩스티원'\n",
        "      elif df['아티스트'].loc[i] == '아이자야씩스티원 예술학교':\n",
        "        df['아티스트'].loc[i] = '아이자야씩스티원'\n",
        "      print(df['아티스트'].loc[i] + \"의 \" + df['타이틀'].loc[i])\n",
        "    if i == df.index.stop:\n",
        "      break\n",
        "\n",
        "except TypeError as T:\n",
        "  if sum == 0:\n",
        "    print(\"검색 결과가 없습니다.\")\n",
        "  else:\n",
        "    print(\"\")\n",
        "    print(\"키워드를 통해 검색된 \" + str(sum) + \"개의 추천 찬양입니다.\")"
      ],
      "execution_count": null,
      "outputs": [
        {
          "output_type": "stream",
          "name": "stdout",
          "text": [
            "키워드를 입력해주세요(한 글자 이상) : 사랑\n",
            "찬양을 검색중입니다...\n",
            "\n",
            "어노인팅의 소원\n",
            "어노인팅의 참 아름다워라\n",
            "어노인팅의 내가 주인 삼은\n",
            "어노인팅의 하나님의 그늘 아래\n",
            "어노인팅의 빛 되신 주\n",
            "어노인팅의 주님은 신실하고\n",
            "어노인팅의 예수보다 더 큰 사랑\n",
            "어노인팅의 헤아릴 수 없는 사랑 [시편139편]\n",
            "어노인팅의 이 세상의 부요함보다\n",
            "어노인팅의 온전케되리 (인도 : 강동균)\n",
            "어노인팅의 사랑이 나를 부르네\n",
            "어노인팅의 내 마음속 전부를\n",
            "어노인팅의 그 사랑 감사해 Thank You For Loving Me (CD Mix)\n",
            "어노인팅의 주 사랑이 내게 들어와\n",
            "어노인팅의 주를향한 나의 사랑을\n",
            "어노인팅의 그 사랑 (크고 놀라운 사랑)\n",
            "어노인팅의 주 사랑 앞에 엎드려\n",
            "어노인팅의 그 크신 하나님의 사랑\n",
            "어노인팅의 흐르네 하나님 사랑\n",
            "어노인팅의 주의 품에 안길 때\n",
            "어노인팅의 그는 사랑\n",
            "어노인팅의 주 사랑으로 오셨네\n",
            "어노인팅의 사랑의 노래 드리네 (Arms Of Love)\n",
            "어노인팅의 형제의 모습 속에\n",
            "어노인팅의 그 사랑만으로\n",
            "어노인팅의 내 모든 삶의 행동\n",
            "어노인팅의 놀라운 주의 사랑 (인도 : 김영진)\n",
            "어노인팅의 이 세상의 부요함보다 (인도 : 오재성)\n",
            "어노인팅의 주님 발 앞에 엎드려\n",
            "어노인팅의 아버지의 노래 2\n",
            "어노인팅의 내주 되신주\n",
            "어노인팅의 주님만으로\n",
            "어노인팅의 이제 우리 함께 모여서 (With 사랑의 주님이)\n",
            "어노인팅의 그 사랑 감사해 Thank You For Loving Me (DVD-Mix)\n",
            "어노인팅의 나의 사랑이 (박성식)\n",
            "어노인팅의 주님 그 큰사랑\n",
            "브리지 임팩트의 그 크신 하나님의 사랑\n",
            "브리지 임팩트의 예수보다 더 큰 사랑 (No Greater Love)\n",
            "브리지 임팩트의 There is no one like you\n",
            "브리지 임팩트의 허락하신 은혜\n",
            "브리지 임팩트의 Everyday\n",
            "브리지 임팩트의 나는 너를 알고\n",
            "천관웅의 겸손의 왕\n",
            "천관웅의 나보다 더 나를 사랑하는 주님\n",
            "천관웅의 파수꾼의 노래\n",
            "천관웅의 사랑한단 말로도\n",
            "천관웅의 내 평생 소원\n",
            "천관웅의 It's OK\n",
            "천관웅의 주의 사랑 전하리\n",
            "천관웅의 Happy Song\n",
            "천관웅의 눈물의 아들\n",
            "디사이플스의 The Happy Song\n",
            "디사이플스의 나의 사랑이 (Falling)\n",
            "디사이플스의 나 주의 얼굴 보네\n",
            "디사이플스의 영원한 그 사랑\n",
            "한웅재의 사랑은 여전히 사랑이어서\n",
            "한웅재의 오 신실하신 주\n",
            "한웅재의 십자가 대화\n",
            "아이자야씩스티원의 Your Love\n",
            "아이자야씩스티원의 DEAR MY SON\n",
            "제이어스의 Love Never Fails (부제 : 여호와께 돌아가자) (Live)\n",
            "제이어스의 십자가 (The Cross)\n",
            "제이어스의 그 크신 하나님의 사랑\n",
            "제이어스의 사랑은 여기 있으니\n",
            "제이어스의 그가 내 안에\n",
            "제이어스의 날 사랑하는 이 / 예수 사랑하심은 (Live)\n",
            "제이어스의 주 사랑이 내게 들어와 (Live)\n",
            "제이어스의 아버지께\n",
            "제이어스의 그가 내 안에 (Live)\n",
            "제이어스의 사랑은 여기 있으니 (Live)\n",
            "제이어스의 Hosea 11:8 . John 13:34-35\n",
            "제이어스의 그 사랑으로 우리\n",
            "예수전도단의 아름다우신\n",
            "예수전도단의 갈급한 내 맘 만지시는 주\n",
            "예수전도단의 이 세상의 부요함보다\n",
            "예수전도단의 다함없는\n",
            "예수전도단의 당신은 사랑 받기 위해 태어난 사람\n",
            "예수전도단의 당신을 향한 노래\n",
            "예수전도단의 내 아바 내 주님\n",
            "예수전도단의 주님이 계시네\n",
            "예수전도단의 주 나의 빛\n",
            "예수전도단의 형제의 모습 속에\n",
            "예수전도단의 아름다우신 (Acoustic Ver.)\n",
            "예수전도단의 Unending Love\n",
            "예수전도단의 예수의 사랑이\n",
            "예수전도단의 주의 사랑으로 사랑합니다\n"
          ]
        },
        {
          "output_type": "error",
          "ename": "AssertionError",
          "evalue": "ignored",
          "traceback": [
            "\u001b[0;31m---------------------------------------------------------------------------\u001b[0m",
            "\u001b[0;31mAssertionError\u001b[0m                            Traceback (most recent call last)",
            "\u001b[0;32m<ipython-input-4-22595c85a798>\u001b[0m in \u001b[0;36m<module>\u001b[0;34m()\u001b[0m\n\u001b[1;32m     27\u001b[0m     \u001b[0mokt\u001b[0m \u001b[0;34m=\u001b[0m \u001b[0mOkt\u001b[0m\u001b[0;34m(\u001b[0m\u001b[0;34m)\u001b[0m\u001b[0;34m\u001b[0m\u001b[0;34m\u001b[0m\u001b[0m\n\u001b[1;32m     28\u001b[0m     \u001b[0mlyrics\u001b[0m \u001b[0;34m=\u001b[0m \u001b[0mdf\u001b[0m\u001b[0;34m[\u001b[0m\u001b[0;34m'가사'\u001b[0m\u001b[0;34m]\u001b[0m\u001b[0;34m.\u001b[0m\u001b[0mloc\u001b[0m\u001b[0;34m[\u001b[0m\u001b[0mi\u001b[0m\u001b[0;34m]\u001b[0m\u001b[0;34m\u001b[0m\u001b[0;34m\u001b[0m\u001b[0m\n\u001b[0;32m---> 29\u001b[0;31m     \u001b[0mlyrics\u001b[0m \u001b[0;34m=\u001b[0m \u001b[0mkeyword_extractor\u001b[0m\u001b[0;34m(\u001b[0m\u001b[0mokt\u001b[0m\u001b[0;34m,\u001b[0m \u001b[0mlyrics\u001b[0m\u001b[0;34m,\u001b[0m \u001b[0mkeyword\u001b[0m\u001b[0;34m)\u001b[0m\u001b[0;34m\u001b[0m\u001b[0;34m\u001b[0m\u001b[0m\n\u001b[0m\u001b[1;32m     30\u001b[0m     \u001b[0;32mif\u001b[0m \u001b[0mkeyword\u001b[0m \u001b[0;32min\u001b[0m \u001b[0mlyrics\u001b[0m\u001b[0;34m:\u001b[0m\u001b[0;34m\u001b[0m\u001b[0;34m\u001b[0m\u001b[0m\n\u001b[1;32m     31\u001b[0m       \u001b[0msum\u001b[0m \u001b[0;34m+=\u001b[0m \u001b[0;36m1\u001b[0m\u001b[0;34m\u001b[0m\u001b[0;34m\u001b[0m\u001b[0m\n",
            "\u001b[0;32m<ipython-input-4-22595c85a798>\u001b[0m in \u001b[0;36mkeyword_extractor\u001b[0;34m(tagger, lyrics, word)\u001b[0m\n\u001b[1;32m      6\u001b[0m \u001b[0;34m\u001b[0m\u001b[0m\n\u001b[1;32m      7\u001b[0m \u001b[0;32mdef\u001b[0m \u001b[0mkeyword_extractor\u001b[0m\u001b[0;34m(\u001b[0m\u001b[0mtagger\u001b[0m\u001b[0;34m,\u001b[0m \u001b[0mlyrics\u001b[0m\u001b[0;34m,\u001b[0m \u001b[0mword\u001b[0m\u001b[0;34m)\u001b[0m\u001b[0;34m:\u001b[0m\u001b[0;34m\u001b[0m\u001b[0;34m\u001b[0m\u001b[0m\n\u001b[0;32m----> 8\u001b[0;31m   \u001b[0mtokens\u001b[0m \u001b[0;34m=\u001b[0m \u001b[0mtagger\u001b[0m\u001b[0;34m.\u001b[0m\u001b[0mnouns\u001b[0m\u001b[0;34m(\u001b[0m\u001b[0mlyrics\u001b[0m\u001b[0;34m)\u001b[0m\u001b[0;34m\u001b[0m\u001b[0;34m\u001b[0m\u001b[0m\n\u001b[0m\u001b[1;32m      9\u001b[0m   \u001b[0mtokens\u001b[0m \u001b[0;34m=\u001b[0m \u001b[0;34m[\u001b[0m\u001b[0mtoken\u001b[0m \u001b[0;32mfor\u001b[0m \u001b[0mtoken\u001b[0m \u001b[0;32min\u001b[0m \u001b[0mtokens\u001b[0m \u001b[0;32mif\u001b[0m \u001b[0mlen\u001b[0m\u001b[0;34m(\u001b[0m\u001b[0mtoken\u001b[0m\u001b[0;34m)\u001b[0m \u001b[0;34m>\u001b[0m \u001b[0;36m1\u001b[0m\u001b[0;34m]\u001b[0m \u001b[0;31m# 한 글자인 단어는 제외\u001b[0m\u001b[0;34m\u001b[0m\u001b[0;34m\u001b[0m\u001b[0m\n\u001b[1;32m     10\u001b[0m   \u001b[0mcount_dict\u001b[0m \u001b[0;34m=\u001b[0m \u001b[0;34m[\u001b[0m\u001b[0;34m(\u001b[0m\u001b[0mtoken\u001b[0m\u001b[0;34m,\u001b[0m \u001b[0mlyrics\u001b[0m\u001b[0;34m.\u001b[0m\u001b[0mcount\u001b[0m\u001b[0;34m(\u001b[0m\u001b[0mtoken\u001b[0m\u001b[0;34m)\u001b[0m\u001b[0;34m)\u001b[0m \u001b[0;32mfor\u001b[0m \u001b[0mtoken\u001b[0m \u001b[0;32min\u001b[0m \u001b[0mtokens\u001b[0m\u001b[0;34m]\u001b[0m\u001b[0;34m\u001b[0m\u001b[0;34m\u001b[0m\u001b[0m\n",
            "\u001b[0;32m/usr/local/lib/python3.7/dist-packages/konlpy/tag/_okt.py\u001b[0m in \u001b[0;36mnouns\u001b[0;34m(self, phrase)\u001b[0m\n\u001b[1;32m     81\u001b[0m         \u001b[0;34m\"\"\"Noun extractor.\"\"\"\u001b[0m\u001b[0;34m\u001b[0m\u001b[0;34m\u001b[0m\u001b[0m\n\u001b[1;32m     82\u001b[0m \u001b[0;34m\u001b[0m\u001b[0m\n\u001b[0;32m---> 83\u001b[0;31m         \u001b[0mtagged\u001b[0m \u001b[0;34m=\u001b[0m \u001b[0mself\u001b[0m\u001b[0;34m.\u001b[0m\u001b[0mpos\u001b[0m\u001b[0;34m(\u001b[0m\u001b[0mphrase\u001b[0m\u001b[0;34m)\u001b[0m\u001b[0;34m\u001b[0m\u001b[0;34m\u001b[0m\u001b[0m\n\u001b[0m\u001b[1;32m     84\u001b[0m         \u001b[0;32mreturn\u001b[0m \u001b[0;34m[\u001b[0m\u001b[0ms\u001b[0m \u001b[0;32mfor\u001b[0m \u001b[0ms\u001b[0m\u001b[0;34m,\u001b[0m \u001b[0mt\u001b[0m \u001b[0;32min\u001b[0m \u001b[0mtagged\u001b[0m \u001b[0;32mif\u001b[0m \u001b[0mt\u001b[0m \u001b[0;34m==\u001b[0m \u001b[0;34m'Noun'\u001b[0m\u001b[0;34m]\u001b[0m\u001b[0;34m\u001b[0m\u001b[0;34m\u001b[0m\u001b[0m\n\u001b[1;32m     85\u001b[0m \u001b[0;34m\u001b[0m\u001b[0m\n",
            "\u001b[0;32m/usr/local/lib/python3.7/dist-packages/konlpy/tag/_okt.py\u001b[0m in \u001b[0;36mpos\u001b[0;34m(self, phrase, norm, stem, join)\u001b[0m\n\u001b[1;32m     67\u001b[0m         \u001b[0;34m:\u001b[0m\u001b[0mparam\u001b[0m \u001b[0mjoin\u001b[0m\u001b[0;34m:\u001b[0m \u001b[0mIf\u001b[0m \u001b[0;32mTrue\u001b[0m\u001b[0;34m,\u001b[0m \u001b[0mreturns\u001b[0m \u001b[0mjoined\u001b[0m \u001b[0msets\u001b[0m \u001b[0mof\u001b[0m \u001b[0mmorph\u001b[0m \u001b[0;32mand\u001b[0m \u001b[0mtag\u001b[0m\u001b[0;34m.\u001b[0m\u001b[0;34m\u001b[0m\u001b[0;34m\u001b[0m\u001b[0m\n\u001b[1;32m     68\u001b[0m         \"\"\"\n\u001b[0;32m---> 69\u001b[0;31m         \u001b[0mvalidate_phrase_inputs\u001b[0m\u001b[0;34m(\u001b[0m\u001b[0mphrase\u001b[0m\u001b[0;34m)\u001b[0m\u001b[0;34m\u001b[0m\u001b[0;34m\u001b[0m\u001b[0m\n\u001b[0m\u001b[1;32m     70\u001b[0m \u001b[0;34m\u001b[0m\u001b[0m\n\u001b[1;32m     71\u001b[0m         tokens = self.jki.tokenize(\n",
            "\u001b[0;32m/usr/local/lib/python3.7/dist-packages/konlpy/tag/_common.py\u001b[0m in \u001b[0;36mvalidate_phrase_inputs\u001b[0;34m(phrase)\u001b[0m\n\u001b[1;32m     18\u001b[0m     \"\"\"\n\u001b[1;32m     19\u001b[0m     \u001b[0mmsg\u001b[0m \u001b[0;34m=\u001b[0m \u001b[0;34m\"phrase input should be string, not %s\"\u001b[0m \u001b[0;34m%\u001b[0m \u001b[0mtype\u001b[0m\u001b[0;34m(\u001b[0m\u001b[0mphrase\u001b[0m\u001b[0;34m)\u001b[0m\u001b[0;34m\u001b[0m\u001b[0;34m\u001b[0m\u001b[0m\n\u001b[0;32m---> 20\u001b[0;31m     \u001b[0;32massert\u001b[0m \u001b[0misinstance\u001b[0m\u001b[0;34m(\u001b[0m\u001b[0mphrase\u001b[0m\u001b[0;34m,\u001b[0m \u001b[0mbasestring\u001b[0m\u001b[0;34m)\u001b[0m\u001b[0;34m,\u001b[0m \u001b[0mmsg\u001b[0m\u001b[0;34m\u001b[0m\u001b[0;34m\u001b[0m\u001b[0m\n\u001b[0m",
            "\u001b[0;31mAssertionError\u001b[0m: phrase input should be string, not <class 'float'>"
          ]
        }
      ]
    }
  ]
}